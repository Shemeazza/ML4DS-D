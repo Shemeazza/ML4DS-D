{
 "cells": [
  {
   "cell_type": "code",
   "execution_count": 96,
   "metadata": {},
   "outputs": [],
   "source": [
    "import os\n",
    "import pandas as pd\n",
    "from sklearn.model_selection import train_test_split, validation_curve\n",
    "from sklearn import tree\n",
    "from sklearn.metrics import accuracy_score\n",
    "from sklearn.preprocessing import LabelEncoder\n",
    "import numpy as np\n",
    "import matplotlib as mpl\n",
    "import matplotlib.pyplot as plt\n",
    "from sklearn.svm import SVC\n",
    "import urllib.request\n",
    "\n",
    "\n"
   ]
  },
  {
   "cell_type": "code",
   "execution_count": 108,
   "metadata": {},
   "outputs": [],
   "source": [
    "DOWNLOAD_ROOT = \"https://raw.githubusercontent.com/Shemeazza/ML4DS-D/main/\"\n",
    "TRAIN_DATA_PATH = os.path.join(\"datasets\", \"water_bill\")\n",
    "TRAIN_DATA_URL = DOWNLOAD_ROOT + TRAIN_DATA_PATH\n",
    "\n",
    "\n",
    "\n",
    "def fetch_train_data(train_url=TRAIN_DATA_URL, train_path=TRAIN_DATA_PATH):\n",
    "    if not os.path.isdir(train_path):\n",
    "        os.makedirs(train_path)\n",
    "    csv_path = os.path.join(train_path, \"train.csv\")\n",
    "    urllib.request.urlretrieve(train_url, csv_path)\n",
    "    train_data = pd.read_csv(train_path)"
   ]
  },
  {
   "cell_type": "code",
   "execution_count": 109,
   "metadata": {},
   "outputs": [],
   "source": [
    "\n",
    "# train_data = pd.read_csv(train_data_path)\n",
    "\n",
    "train_data['YearMonth'] = train_data['Year'].astype(str) + train_data['Month'].astype(str).str.zfill(2)\n",
    "\n",
    "x = train_data[['Year', 'Month', 'Consumption', 'Installation_zone']]\n",
    "y = train_data['Consumer_type']\n",
    "\n"
   ]
  },
  {
   "cell_type": "code",
   "execution_count": 110,
   "metadata": {},
   "outputs": [],
   "source": [
    "%matplotlib inline\n",
    "\n",
    "mpl.rc('axes', labelsize = 14)\n",
    "mpl.rc('xtick', labelsize = 12)\n",
    "mpl.rc('ytick', labelsize = 12)\n",
    "PROJECT_ROOT_DIR = \".\"\n",
    "IMAGES_PATH = os.path.join(PROJECT_ROOT_DIR, \"images\")\n",
    "os.makedirs(IMAGES_PATH, exist_ok=True)\n",
    "\n",
    "def save_fig(fig_id, tight_layout=True, fig_extension=\"png\", resolution=300 ):\n",
    "    path = os.path.join(IMAGES_PATH, fig_id + \".\" + fig_extension)\n",
    "    print(\"Saving figure\", fig_id)\n",
    "    if tight_layout:\n",
    "        plt.tight_layout()\n",
    "    plt.savefig(path, format = fig_extension, dpi = resolution)    \n"
   ]
  },
  {
   "cell_type": "code",
   "execution_count": 100,
   "metadata": {},
   "outputs": [
    {
     "name": "stdout",
     "output_type": "stream",
     "text": [
      "(263980, 4)\n",
      "(65995, 4)\n"
     ]
    }
   ],
   "source": [
    "encoded_labels = LabelEncoder()\n",
    "x.loc[:, 'Installation_zone'] = encoded_labels.fit_transform(x['Installation_zone'])\n",
    "\n",
    "x_train, x_test, y_train, y_test = train_test_split(x, y, test_size=0.2, random_state=42)\n",
    "\n",
    "print(x_train.shape)\n",
    "print(x_test.shape)\n",
    "\n"
   ]
  },
  {
   "cell_type": "code",
   "execution_count": 101,
   "metadata": {},
   "outputs": [],
   "source": [
    "model = tree.DecisionTreeClassifier(random_state=42).fit(x_train,y_train)\n",
    "\n",
    "y_test_pred = model.predict(x_test)\n"
   ]
  },
  {
   "cell_type": "code",
   "execution_count": 102,
   "metadata": {},
   "outputs": [
    {
     "name": "stdout",
     "output_type": "stream",
     "text": [
      "\n",
      "Model Acc: 0.9058868096067884\n"
     ]
    }
   ],
   "source": [
    "acc_test = accuracy_score(y_test, y_test_pred)\n",
    "print(\"\\nModel Acc:\", acc_test)\n",
    "\n"
   ]
  },
  {
   "cell_type": "code",
   "execution_count": 103,
   "metadata": {},
   "outputs": [],
   "source": [
    "competiton_path = \"competition.csv\"\n",
    "competition_data = pd.read_csv(competiton_path)\n",
    "\n",
    "for col in ['Installation_zone']:\n",
    "    unknown_labels = set(competition_data[col]) - set(encoded_labels.classes_)\n",
    "    if unknown_labels:\n",
    "        encoded_labels.classes_ = np.concatenate([encoded_labels.classes_, ['unknown_label']])\n",
    "        competition_data[col] = competition_data[col].replace(unknown_labels, 'unknown_label')\n",
    "\n"
   ]
  },
  {
   "cell_type": "code",
   "execution_count": 104,
   "metadata": {},
   "outputs": [],
   "source": [
    "competition_data['YearMonth'] = competition_data['Year'].astype(str) + competition_data['Month'].astype(str).str.zfill(2)\n",
    "competition_data.loc[:, 'Installation_zone'] = encoded_labels.transform(competition_data['Installation_zone'])"
   ]
  },
  {
   "cell_type": "code",
   "execution_count": 105,
   "metadata": {},
   "outputs": [],
   "source": [
    "x_comp = competition_data[['Year', 'Month', 'Consumption', 'Installation_zone']]\n",
    "\n",
    "missing = set(x_train.columns) - set(x_comp.columns)\n",
    "if missing:\n",
    "    raise ValueError(f\"Missing features: {missing}\")\n"
   ]
  },
  {
   "cell_type": "code",
   "execution_count": 106,
   "metadata": {},
   "outputs": [],
   "source": [
    "prediction = model.predict(x_comp)\n",
    "results_data = pd.DataFrame({\n",
    "    'Consumer_number': competition_data['Consumer_number'],\n",
    "    'Consumer_type': prediction\n",
    "})"
   ]
  },
  {
   "cell_type": "code",
   "execution_count": 107,
   "metadata": {},
   "outputs": [],
   "source": [
    "results_data.to_csv(\"predicted_results.csv\", index=False)\n"
   ]
  }
 ],
 "metadata": {
  "kernelspec": {
   "display_name": "Python 3",
   "language": "python",
   "name": "python3"
  },
  "language_info": {
   "codemirror_mode": {
    "name": "ipython",
    "version": 3
   },
   "file_extension": ".py",
   "mimetype": "text/x-python",
   "name": "python",
   "nbconvert_exporter": "python",
   "pygments_lexer": "ipython3",
   "version": "3.12.1"
  }
 },
 "nbformat": 4,
 "nbformat_minor": 2
}
